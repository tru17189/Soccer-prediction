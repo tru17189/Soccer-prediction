{
 "cells": [
  {
   "cell_type": "code",
   "execution_count": 1,
   "id": "bb183cab",
   "metadata": {},
   "outputs": [],
   "source": [
    "import csv\n",
    "import pandas as pd\n",
    "import matplotlib.pyplot as plt"
   ]
  },
  {
   "cell_type": "code",
   "execution_count": 7,
   "id": "233277f8",
   "metadata": {},
   "outputs": [],
   "source": [
    "celta = pd.read_csv('respuesta.csv')"
   ]
  },
  {
   "cell_type": "markdown",
   "id": "892f583d",
   "metadata": {},
   "source": [
    "# Graficas Normales"
   ]
  },
  {
   "cell_type": "code",
   "execution_count": 35,
   "id": "5c3d4c34",
   "metadata": {},
   "outputs": [
    {
     "name": "stdout",
     "output_type": "stream",
     "text": [
      "[0, 1, 1, 1, 1, 4, 7, 7, 7, 10, 10, 11, 12, 13, 16, 16, 17, 20, 23, 23, 26, 27, 30, 31, 32, 32]\n"
     ]
    }
   ],
   "source": [
    "puntos_actuales = 0\n",
    "y_puntos = []\n",
    "for a, b, c, d in zip(celta['VICTORIA'], celta['EMPATE'], celta['DERROTA'], celta['YEAR'],):\n",
    "    if d == '2021/2022':\n",
    "        if a == True:\n",
    "            puntos_actuales+=3\n",
    "        elif b == True:\n",
    "            puntos_actuales+=1\n",
    "        elif c == True:\n",
    "            puntos_actuales+=0\n",
    "        y_puntos.append(puntos_actuales)\n",
    "print(y_puntos)"
   ]
  },
  {
   "cell_type": "code",
   "execution_count": 29,
   "id": "71d34efa",
   "metadata": {},
   "outputs": [],
   "source": [
    "x_jornada = []\n",
    "for e, r in zip(celta['YEAR'], celta['JORNADA']):\n",
    "    if e == '2021/2022':\n",
    "        x_jornada.append(r)"
   ]
  },
  {
   "cell_type": "code",
   "execution_count": 44,
   "id": "d81354d0",
   "metadata": {},
   "outputs": [
    {
     "data": {
      "text/plain": [
       "<AxesSubplot:xlabel='Linea temporada 2021/2022'>"
      ]
     },
     "execution_count": 44,
     "metadata": {},
     "output_type": "execute_result"
    },
    {
     "data": {
      "image/png": "[encoded data removed]",
      "text/plain": [
       "<Figure size 432x288 with 1 Axes>"
      ]
     },
     "metadata": {
      "needs_background": "light"
     },
     "output_type": "display_data"
    }
   ],
   "source": [
    "v_graph = pd.DataFrame(y_puntos, x_jornada)\n",
    "v_graph_index = v_graph.index\n",
    "v_graph_index.name = \"Linea temporada 2021/2022\"\n",
    "v_graph.plot()"
   ]
  },
  {
   "cell_type": "code",
   "execution_count": 53,
   "id": "26014e1f",
   "metadata": {},
   "outputs": [],
   "source": [
    "puntos_actuales = 0\n",
    "y_puntos = []\n",
    "for a, b, c, d in zip(celta['VICTORIA'], celta['EMPATE'], celta['DERROTA'], celta['YEAR'],):\n",
    "    if a == True:\n",
    "        puntos_actuales+=3\n",
    "    elif b == True:\n",
    "        puntos_actuales+=1\n",
    "    elif c == True:\n",
    "        puntos_actuales+=0\n",
    "    y_puntos.append(puntos_actuales)"
   ]
  },
  {
   "cell_type": "code",
   "execution_count": 52,
   "id": "18d3b94d",
   "metadata": {},
   "outputs": [],
   "source": [
    "x_jornada = []\n",
    "numero_jornada = 0\n",
    "for i in celta['JORNADA']:\n",
    "    numero_jornada += 1\n",
    "    x_jornada.append(numero_jornada)"
   ]
  },
  {
   "cell_type": "code",
   "execution_count": 54,
   "id": "04f73ac4",
   "metadata": {},
   "outputs": [
    {
     "data": {
      "text/plain": [
       "<AxesSubplot:xlabel='Linea temporada historico'>"
      ]
     },
     "execution_count": 54,
     "metadata": {},
     "output_type": "execute_result"
    },
    {
     "data": {
      "image/png": "[encoded data removed]",
      "text/plain": [
       "<Figure size 432x288 with 1 Axes>"
      ]
     },
     "metadata": {
      "needs_background": "light"
     },
     "output_type": "display_data"
    }
   ],
   "source": [
    "v_graph = pd.DataFrame(y_puntos, x_jornada)\n",
    "v_graph_index = v_graph.index\n",
    "v_graph_index.name = \"Linea temporada historico\"\n",
    "v_graph.plot()"
   ]
  },
  {
   "cell_type": "markdown",
   "id": "fc02e060",
   "metadata": {},
   "source": [
    "# Regresion lineal"
   ]
  },
  {
   "cell_type": "markdown",
   "id": "708c6fad",
   "metadata": {},
   "source": [
    "# Contra el rival"
   ]
  },
  {
   "cell_type": "code",
   "execution_count": null,
   "id": "f1ccd5f7",
   "metadata": {},
   "outputs": [],
   "source": []
  }
 ],
 "metadata": {
  "kernelspec": {
   "display_name": "Python 3 (ipykernel)",
   "language": "python",
   "name": "python3"
  },
  "language_info": {
   "codemirror_mode": {
    "name": "ipython",
    "version": 3
   },
   "file_extension": ".py",
   "mimetype": "text/x-python",
   "name": "python",
   "nbconvert_exporter": "python",
   "pygments_lexer": "ipython3",
   "version": "3.10.2"
  }
 },
 "nbformat": 4,
 "nbformat_minor": 5
}
